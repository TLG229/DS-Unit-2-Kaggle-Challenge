{
  "nbformat": 4,
  "nbformat_minor": 0,
  "metadata": {
    "kernelspec": {
      "display_name": "Python 3",
      "language": "python",
      "name": "python3"
    },
    "language_info": {
      "codemirror_mode": {
        "name": "ipython",
        "version": 3
      },
      "file_extension": ".py",
      "mimetype": "text/x-python",
      "name": "python",
      "nbconvert_exporter": "python",
      "pygments_lexer": "ipython3",
      "version": "3.7.3"
    },
    "colab": {
      "name": "Copy of 224_Tanzanian_Waterpump_Pred_precision_recall.ipynb",
      "provenance": [],
      "collapsed_sections": [],
      "include_colab_link": true
    }
  },
  "cells": [
    {
      "cell_type": "markdown",
      "metadata": {
        "id": "view-in-github",
        "colab_type": "text"
      },
      "source": [
        "<a href=\"https://colab.research.google.com/github/TLG229/DS-Unit-2-Kaggle-Challenge/blob/master/Copy_of_224_Tanzanian_Waterpump_Pred_precision_recall.ipynb\" target=\"_parent\"><img src=\"https://colab.research.google.com/assets/colab-badge.svg\" alt=\"Open In Colab\"/></a>"
      ]
    },
    {
      "cell_type": "markdown",
      "metadata": {
        "id": "8jh6n_NUfq7P"
      },
      "source": [
        "Lambda School Data Science\n",
        "\n",
        "*Unit 2, Sprint 2, Module 4*\n",
        "\n",
        "---"
      ]
    },
    {
      "cell_type": "markdown",
      "metadata": {
        "id": "nCc3XZEyG3XV"
      },
      "source": [
        "# Classification Metrics\n",
        "\n",
        "## Assignment\n",
        "- [ ] If you haven't yet, [review requirements for your portfolio project](https://lambdaschool.github.io/ds/unit2), then submit your dataset.\n",
        "- [ ] Plot a confusion matrix for your Tanzania Waterpumps model.\n",
        "- [ ] Continue to participate in our Kaggle challenge. Every student should have made at least one submission that scores at least 70% accuracy (well above the majority class baseline).\n",
        "- [ ] Submit your final predictions to our Kaggle competition. Optionally, go to **My Submissions**, and _\"you may select up to 1 submission to be used to count towards your final leaderboard score.\"_\n",
        "- [ ] Commit your notebook to your fork of the GitHub repo.\n",
        "- [ ] Read [Maximizing Scarce Maintenance Resources with Data: Applying predictive modeling, precision at k, and clustering to optimize impact](http://archive.is/DelgE), by Lambda DS3 student Michael Brady. His blog post extends the Tanzania Waterpumps scenario, far beyond what's in the lecture notebook.\n",
        "\n",
        "\n",
        "## Stretch Goals\n",
        "\n",
        "### Reading\n",
        "\n",
        "- [Attacking discrimination with smarter machine learning](https://research.google.com/bigpicture/attacking-discrimination-in-ml/), by Google Research, with  interactive visualizations. _\"A threshold classifier essentially makes a yes/no decision, putting things in one category or another. We look at how these classifiers work, ways they can potentially be unfair, and how you might turn an unfair classifier into a fairer one. As an illustrative example, we focus on loan granting scenarios where a bank may grant or deny a loan based on a single, automatically computed number such as a credit score.\"_\n",
        "- [Notebook about how to calculate expected value from a confusion matrix by treating it as a cost-benefit matrix](https://github.com/podopie/DAT18NYC/blob/master/classes/13-expected_value_cost_benefit_analysis.ipynb)\n",
        "- [Visualizing Machine Learning Thresholds to Make Better Business Decisions](https://blog.insightdatascience.com/visualizing-machine-learning-thresholds-to-make-better-business-decisions-4ab07f823415)\n",
        "\n",
        "\n",
        "### Doing\n",
        "- [ ] Share visualizations in our Slack channel!\n",
        "- [ ] RandomizedSearchCV / GridSearchCV, for model selection. (See module 3 assignment notebook)\n",
        "- [ ] Stacking Ensemble. (See module 3 assignment notebook)\n",
        "- [ ] More Categorical Encoding. (See module 2 assignment notebook)"
      ]
    },
    {
      "cell_type": "code",
      "metadata": {
        "id": "AbNajC_Rfq7a"
      },
      "source": [
        "#importing packages\r\n",
        "%matplotlib inline\r\n",
        "import pandas as pd\r\n",
        "import numpy as np\r\n",
        "import category_encoders as ce\r\n",
        "from sklearn.pipeline import make_pipeline\r\n",
        "from category_encoders import OneHotEncoder, OrdinalEncoder\r\n",
        "from sklearn.impute import SimpleImputer\r\n",
        "from sklearn.preprocessing import StandardScaler\r\n",
        "from sklearn.linear_model import LogisticRegression\r\n",
        "from sklearn.ensemble import RandomForestClassifier\r\n",
        "from sklearn.model_selection import cross_val_score\r\n",
        "from sklearn.model_selection import GridSearchCV, RandomizedSearchCV\r\n",
        "import matplotlib.pyplot as plt\r\n",
        "import seaborn as sns\r\n",
        "from sklearn.metrics import accuracy_score\r\n",
        "from sklearn.model_selection import train_test_split\r\n",
        "from sklearn.metrics import classification_report\r\n"
      ],
      "execution_count": null,
      "outputs": []
    },
    {
      "cell_type": "code",
      "metadata": {
        "id": "lsbRiKBoB5RE"
      },
      "source": [
        "%%capture\n",
        "import sys\n",
        "\n",
        "# If you're on Colab:\n",
        "if 'google.colab' in sys.modules:\n",
        "    DATA_PATH = 'https://raw.githubusercontent.com/LambdaSchool/DS-Unit-2-Kaggle-Challenge/master/data/'\n",
        "    !pip install category_encoders==2.*\n",
        "\n",
        "# If you're working locally:\n",
        "else:\n",
        "    DATA_PATH = '../data/'"
      ],
      "execution_count": null,
      "outputs": []
    },
    {
      "cell_type": "code",
      "metadata": {
        "id": "BVA1lph8CcNX"
      },
      "source": [
        "# Merge train_features.csv & train_labels.csv\n",
        "train = pd.merge(pd.read_csv(DATA_PATH+'waterpumps/train_features.csv'), \n",
        "                 pd.read_csv(DATA_PATH+'waterpumps/train_labels.csv')).set_index('id')\n",
        "\n",
        "# Read test_features.csv & sample_submission.csv\n",
        "test = pd.read_csv(DATA_PATH+'waterpumps/test_features.csv')\n",
        "sample_submission = pd.read_csv(DATA_PATH+'waterpumps/sample_submission.csv')"
      ],
      "execution_count": null,
      "outputs": []
    },
    {
      "cell_type": "markdown",
      "metadata": {
        "id": "f7zQUkcGjhX3"
      },
      "source": [
        "#Data Wrangling\r\n"
      ]
    },
    {
      "cell_type": "code",
      "metadata": {
        "id": "iyJfePo0jkTT"
      },
      "source": [
        "# WRANGLE FUNCTION\r\n",
        "\r\n",
        "def wrangle(df):\r\n",
        "  # Make a copy\r\n",
        "  df = df.copy()\r\n",
        "\r\n",
        "  # Drop repeat rows (observations)\r\n",
        "  df.drop_duplicates(inplace=True)\r\n",
        "\r\n",
        "  # Drop repeat columns (features)\r\n",
        "  df.drop(columns=['quantity_group', 'extraction_type_group'], inplace=True)\r\n",
        "\r\n",
        "  # Drop constant features\r\n",
        "  df.drop(columns=['recorded_by'], inplace=True)\r\n",
        "\r\n",
        "  # feature engineering\r\n",
        "  df['pump_age'] = df['date_recorded'].dt.year - df['construction_year']\r\n",
        "  df['date_recorded'] = df['date_recorded'].dt.year\r\n",
        "\r\n",
        "  # drop datetime column\r\n",
        "  df.drop(columns='date_recorded', inplace=True)\r\n",
        "\r\n",
        "  # high-cardinality\r\n",
        "  drop_cols = [col for col in df.select_dtypes('object').columns\r\n",
        "               if df[col].nunique() > 100]\r\n",
        "  df.drop(columns=drop_cols, inplace=True)\r\n",
        "\r\n",
        "  # Drop features with lots of NaN values\r\n",
        "  df.dropna(axis=1, thresh=len(df)*0.8, inplace=True)\r\n",
        "\r\n",
        "  return df\r\n",
        "\r\n",
        "# Import and clean TRAINING dataset\r\n",
        "df = pd.merge(pd.read_csv(DATA_PATH+'waterpumps/train_features.csv',\r\n",
        "                          parse_dates=['date_recorded'],\r\n",
        "                          na_values=[0, -2.000000e-08]), \r\n",
        "              pd.read_csv(DATA_PATH+'waterpumps/train_labels.csv')).set_index('id')\r\n",
        "\r\n",
        "df = wrangle(df)\r\n",
        "\r\n",
        "# Import and clean TEST dataset\r\n",
        "X_test = pd.read_csv(DATA_PATH+'waterpumps/test_features.csv',\r\n",
        "            parse_dates=['date_recorded'],\r\n",
        "            na_values=[0, -2.000000e-08],\r\n",
        "            index_col='id')\r\n",
        "\r\n",
        "X_test = wrangle(X_test)"
      ],
      "execution_count": null,
      "outputs": []
    },
    {
      "cell_type": "markdown",
      "metadata": {
        "id": "LJOnYAQ3j67U"
      },
      "source": [
        "#Splitting Data - not necessary when using KFold Validation"
      ]
    },
    {
      "cell_type": "code",
      "metadata": {
        "colab": {
          "base_uri": "https://localhost:8080/"
        },
        "id": "INDkHxdukBQS",
        "outputId": "8b7b5f5c-916f-4447-b543-173f0bc13af8"
      },
      "source": [
        "#Accuracy as a baseline\r\n",
        "\r\n",
        "print('Baseline Accuracy:', df['status_group'].value_counts(normalize=True).max())"
      ],
      "execution_count": null,
      "outputs": [
        {
          "output_type": "stream",
          "text": [
            "Baseline Accuracy: 0.5430487003689166\n"
          ],
          "name": "stdout"
        }
      ]
    },
    {
      "cell_type": "markdown",
      "metadata": {
        "id": "zpFFI68-kZsK"
      },
      "source": [
        "#Building Model"
      ]
    },
    {
      "cell_type": "code",
      "metadata": {
        "id": "ZxV2XHokkb_C"
      },
      "source": [
        "X_train = df.drop(['status_group'], axis=1)\r\n",
        "y_train = df['status_group']"
      ],
      "execution_count": null,
      "outputs": []
    },
    {
      "cell_type": "code",
      "metadata": {
        "id": "Kqz8OzhWkrvq"
      },
      "source": [
        "#making a pipeline for random forest model using RandomForestClassifier\r\n",
        "\r\n",
        "rf = make_pipeline(OrdinalEncoder(),\r\n",
        "                   SimpleImputer(),\r\n",
        "                   RandomForestClassifier(n_estimators=100, max_depth=20, max_samples=0.7))\r\n",
        "                  "
      ],
      "execution_count": null,
      "outputs": []
    },
    {
      "cell_type": "code",
      "metadata": {
        "colab": {
          "base_uri": "https://localhost:8080/"
        },
        "id": "KBaUbfdS4ZrF",
        "outputId": "3df4fafc-3170-465c-e201-67581ed5b6de"
      },
      "source": [
        "#training model\r\n",
        "\r\n",
        "rf.fit(X_train, y_train)"
      ],
      "execution_count": null,
      "outputs": [
        {
          "output_type": "execute_result",
          "data": {
            "text/plain": [
              "Pipeline(memory=None,\n",
              "         steps=[('ordinalencoder',\n",
              "                 OrdinalEncoder(cols=['basin', 'region', 'public_meeting',\n",
              "                                      'scheme_management', 'permit',\n",
              "                                      'extraction_type',\n",
              "                                      'extraction_type_class', 'management',\n",
              "                                      'management_group', 'payment',\n",
              "                                      'payment_type', 'water_quality',\n",
              "                                      'quality_group', 'quantity', 'source',\n",
              "                                      'source_type', 'source_class',\n",
              "                                      'waterpoint_type',\n",
              "                                      'waterpoint_type_group...\n",
              "                 RandomForestClassifier(bootstrap=True, ccp_alpha=0.0,\n",
              "                                        class_weight=None, criterion='gini',\n",
              "                                        max_depth=20, max_features='auto',\n",
              "                                        max_leaf_nodes=None, max_samples=0.7,\n",
              "                                        min_impurity_decrease=0.0,\n",
              "                                        min_impurity_split=None,\n",
              "                                        min_samples_leaf=1, min_samples_split=2,\n",
              "                                        min_weight_fraction_leaf=0.0,\n",
              "                                        n_estimators=100, n_jobs=None,\n",
              "                                        oob_score=False, random_state=None,\n",
              "                                        verbose=0, warm_start=False))],\n",
              "         verbose=False)"
            ]
          },
          "metadata": {
            "tags": []
          },
          "execution_count": 33
        }
      ]
    },
    {
      "cell_type": "code",
      "metadata": {
        "colab": {
          "base_uri": "https://localhost:8080/"
        },
        "id": "3LsRAjLzMcg6",
        "outputId": "fcd7d98d-0dbe-4e38-abc1-f1bffa5c5851"
      },
      "source": [
        "#transforming data sets from 3 categories to 2 either functional or needs repair\r\n",
        "\r\n",
        "train['status_group'].value_counts()"
      ],
      "execution_count": null,
      "outputs": [
        {
          "output_type": "execute_result",
          "data": {
            "text/plain": [
              "functional                 32259\n",
              "non functional             22824\n",
              "functional needs repair     4317\n",
              "Name: status_group, dtype: int64"
            ]
          },
          "metadata": {
            "tags": []
          },
          "execution_count": 34
        }
      ]
    },
    {
      "cell_type": "code",
      "metadata": {
        "colab": {
          "base_uri": "https://localhost:8080/"
        },
        "id": "4HNaA2HrM-Sd",
        "outputId": "4a9be246-586e-49c8-c79b-97a154fa91f8"
      },
      "source": [
        "#needs repair = 1 , doesn't need repair = 0\r\n",
        "train['status_group'].replace({'functional':0,\r\n",
        "                               'non functional':1,\r\n",
        "                               'functional needs repair':1}).head()\r\n",
        "\r\n"
      ],
      "execution_count": null,
      "outputs": [
        {
          "output_type": "execute_result",
          "data": {
            "text/plain": [
              "id\n",
              "69572    0\n",
              "8776     0\n",
              "34310    0\n",
              "67743    1\n",
              "19728    0\n",
              "Name: status_group, dtype: int64"
            ]
          },
          "metadata": {
            "tags": []
          },
          "execution_count": 35
        }
      ]
    },
    {
      "cell_type": "code",
      "metadata": {
        "id": "3nzOxzC6OzjE"
      },
      "source": [
        "#Wrangle Data\r\n",
        "\r\n",
        "if 'status_group' in df:\r\n",
        "  #creating binary target\r\n",
        "  df['needs_repair'] = df['status_group'].replace({'functional': 0,\r\n",
        "                                               'non functional':1,\r\n",
        "                                               'functional needs repair': 1})\r\n",
        "\r\n",
        "\r\n"
      ],
      "execution_count": null,
      "outputs": []
    },
    {
      "cell_type": "code",
      "metadata": {
        "colab": {
          "base_uri": "https://localhost:8080/"
        },
        "id": "nBJbtntpY44h",
        "outputId": "b3664785-102f-4fb6-ba54-421a1798fb26"
      },
      "source": [
        "df['status_group']"
      ],
      "execution_count": null,
      "outputs": [
        {
          "output_type": "execute_result",
          "data": {
            "text/plain": [
              "id\n",
              "69572.0        functional\n",
              "8776.0         functional\n",
              "34310.0        functional\n",
              "67743.0    non functional\n",
              "19728.0        functional\n",
              "                ...      \n",
              "60739.0        functional\n",
              "27263.0        functional\n",
              "37057.0        functional\n",
              "31282.0        functional\n",
              "26348.0        functional\n",
              "Name: status_group, Length: 59363, dtype: object"
            ]
          },
          "metadata": {
            "tags": []
          },
          "execution_count": 38
        }
      ]
    },
    {
      "cell_type": "code",
      "metadata": {
        "id": "5BMcrgXlZECA"
      },
      "source": [
        "#creating new binary target\r\n",
        "\r\n",
        "X=df.drop(['needs_repair', 'status_group'], axis=1)\r\n",
        "y = df['needs_repair']"
      ],
      "execution_count": null,
      "outputs": []
    },
    {
      "cell_type": "markdown",
      "metadata": {
        "id": "7Njig0a_Zsaf"
      },
      "source": [
        "#Splitting Data"
      ]
    },
    {
      "cell_type": "markdown",
      "metadata": {
        "id": "8ye05CAJghX8"
      },
      "source": [
        "#Baseline"
      ]
    },
    {
      "cell_type": "code",
      "metadata": {
        "colab": {
          "base_uri": "https://localhost:8080/"
        },
        "id": "k22N9Hmzggku",
        "outputId": "0e4e6a2a-dea2-4766-8199-3f36479a8c51"
      },
      "source": [
        "y_train.value_counts(normalize=True).max()"
      ],
      "execution_count": null,
      "outputs": [
        {
          "output_type": "execute_result",
          "data": {
            "text/plain": [
              "0.5441566645609602"
            ]
          },
          "metadata": {
            "tags": []
          },
          "execution_count": 81
        }
      ]
    },
    {
      "cell_type": "code",
      "metadata": {
        "id": "71VhacUDZr1Q"
      },
      "source": [
        "X_train, X_val, y_train, y_val = train_test_split(X,y, test_size=0.2,random_state=42)"
      ],
      "execution_count": null,
      "outputs": []
    },
    {
      "cell_type": "markdown",
      "metadata": {
        "id": "3BATByA8aRGX"
      },
      "source": [
        "#Building RF Model w/ a pipeline\r\n"
      ]
    },
    {
      "cell_type": "code",
      "metadata": {
        "id": "SpvSRowEaPJg"
      },
      "source": [
        "model = make_pipeline(\r\n",
        "    ce.OrdinalEncoder(),\r\n",
        "    SimpleImputer(),\r\n",
        "    RandomForestClassifier(n_estimators=100, max_depth=20, max_samples=0.7, n_jobs=-1))\r\n"
      ],
      "execution_count": null,
      "outputs": []
    },
    {
      "cell_type": "code",
      "metadata": {
        "colab": {
          "base_uri": "https://localhost:8080/"
        },
        "id": "nCFs90TubG1f",
        "outputId": "385b8d24-f826-419b-9b6f-fa8db3403725"
      },
      "source": [
        "model.fit(X_train, y_train)"
      ],
      "execution_count": null,
      "outputs": [
        {
          "output_type": "execute_result",
          "data": {
            "text/plain": [
              "Pipeline(memory=None,\n",
              "         steps=[('ordinalencoder',\n",
              "                 OrdinalEncoder(cols=['basin', 'region', 'public_meeting',\n",
              "                                      'scheme_management', 'permit',\n",
              "                                      'extraction_type',\n",
              "                                      'extraction_type_class', 'management',\n",
              "                                      'management_group', 'payment',\n",
              "                                      'payment_type', 'water_quality',\n",
              "                                      'quality_group', 'quantity', 'source',\n",
              "                                      'source_type', 'source_class',\n",
              "                                      'waterpoint_type',\n",
              "                                      'waterpoint_type_group...\n",
              "                 RandomForestClassifier(bootstrap=True, ccp_alpha=0.0,\n",
              "                                        class_weight=None, criterion='gini',\n",
              "                                        max_depth=20, max_features='auto',\n",
              "                                        max_leaf_nodes=None, max_samples=0.7,\n",
              "                                        min_impurity_decrease=0.0,\n",
              "                                        min_impurity_split=None,\n",
              "                                        min_samples_leaf=1, min_samples_split=2,\n",
              "                                        min_weight_fraction_leaf=0.0,\n",
              "                                        n_estimators=100, n_jobs=-1,\n",
              "                                        oob_score=False, random_state=None,\n",
              "                                        verbose=0, warm_start=False))],\n",
              "         verbose=False)"
            ]
          },
          "metadata": {
            "tags": []
          },
          "execution_count": 77
        }
      ]
    },
    {
      "cell_type": "markdown",
      "metadata": {
        "id": "b6jfkoZyhVBa"
      },
      "source": [
        "#Checking Metrics\r\n"
      ]
    },
    {
      "cell_type": "code",
      "metadata": {
        "colab": {
          "base_uri": "https://localhost:8080/"
        },
        "id": "HesI49VshkGK",
        "outputId": "94c4d27c-697a-47c8-d614-4d4fa4e47540"
      },
      "source": [
        "print('Training Accuracy:',model.score(X_train, y_train))\r\n",
        "print('Validation Accuracy:', model.score(X_val, y_val))"
      ],
      "execution_count": null,
      "outputs": [
        {
          "output_type": "stream",
          "text": [
            "Training Accuracy: 0.9183828174352495\n",
            "Validation Accuracy: 0.8167270277099301\n"
          ],
          "name": "stdout"
        }
      ]
    },
    {
      "cell_type": "code",
      "metadata": {
        "id": "RNmTlySxbOvJ"
      },
      "source": [
        "y_pred = model.predict(X_val)"
      ],
      "execution_count": null,
      "outputs": []
    },
    {
      "cell_type": "code",
      "metadata": {
        "colab": {
          "base_uri": "https://localhost:8080/"
        },
        "id": "Uk7Lq-QAbqa0",
        "outputId": "3acda243-6388-41e0-8acb-9ad76fb2f2f0"
      },
      "source": [
        "accuracy_score(y_val, y_pred)"
      ],
      "execution_count": null,
      "outputs": [
        {
          "output_type": "execute_result",
          "data": {
            "text/plain": [
              "0.8167270277099301"
            ]
          },
          "metadata": {
            "tags": []
          },
          "execution_count": 83
        }
      ]
    },
    {
      "cell_type": "code",
      "metadata": {
        "colab": {
          "base_uri": "https://localhost:8080/",
          "height": 296
        },
        "id": "b_hPa7sceL9i",
        "outputId": "5694579c-46e7-4601-c31d-e87d4d34350b"
      },
      "source": [
        "#Confusion Matrix\r\n",
        "\r\n",
        "from sklearn.metrics import plot_confusion_matrix\r\n",
        "plot_confusion_matrix(model, X_val, y_val, values_format='.0f',\r\n",
        "display_labels = ['no repair needed', 'needs repair'])"
      ],
      "execution_count": null,
      "outputs": [
        {
          "output_type": "execute_result",
          "data": {
            "text/plain": [
              "<sklearn.metrics._plot.confusion_matrix.ConfusionMatrixDisplay at 0x7fb5624f1e80>"
            ]
          },
          "metadata": {
            "tags": []
          },
          "execution_count": 89
        },
        {
          "output_type": "display_data",
          "data": {
            "image/png": "[encoded data removed]",
            "text/plain": [
              "<Figure size 432x288 with 2 Axes>"
            ]
          },
          "metadata": {
            "tags": [],
            "needs_background": "light"
          }
        }
      ]
    },
    {
      "cell_type": "code",
      "metadata": {
        "colab": {
          "base_uri": "https://localhost:8080/"
        },
        "id": "tHGexJK0mk-j",
        "outputId": "5bb88e75-226a-4bc2-bd0e-75ab8ce42a06"
      },
      "source": [
        "#precision: of all the pumps that werepredicted to need repair, \r\n",
        "#what proportion actually needed repair?  TP/(TP+FP)\r\n",
        "print(3999 / (3999+697))\r\n"
      ],
      "execution_count": null,
      "outputs": [
        {
          "output_type": "stream",
          "text": [
            "0.8515758091993185\n"
          ],
          "name": "stdout"
        }
      ]
    },
    {
      "cell_type": "code",
      "metadata": {
        "colab": {
          "base_uri": "https://localhost:8080/"
        },
        "id": "1BxeYV9SnwBU",
        "outputId": "0df69972-d5d4-4220-8837-e78430da3b36"
      },
      "source": [
        "#recall:of those pumps that neede repair, what proportion were \r\n",
        "#correctly predicted (TP/TP+FN)\r\n",
        "print(3999/(3999+1269))"
      ],
      "execution_count": null,
      "outputs": [
        {
          "output_type": "stream",
          "text": [
            "0.7591116173120729\n"
          ],
          "name": "stdout"
        }
      ]
    },
    {
      "cell_type": "code",
      "metadata": {
        "colab": {
          "base_uri": "https://localhost:8080/"
        },
        "id": "_KAWqM1wpEVa",
        "outputId": "d4f00ecd-6599-4c26-9bec-68e0be99cf16"
      },
      "source": [
        "#using classification report\r\n",
        "print(classification_report(y_val, model.predict(X_val),\r\n",
        "                            target_names=['no repair needed','needs repair']))"
      ],
      "execution_count": null,
      "outputs": [
        {
          "output_type": "stream",
          "text": [
            "                  precision    recall  f1-score   support\n",
            "\n",
            "no repair needed       0.79      0.89      0.84      6395\n",
            "    needs repair       0.85      0.73      0.79      5478\n",
            "\n",
            "        accuracy                           0.82     11873\n",
            "       macro avg       0.82      0.81      0.81     11873\n",
            "    weighted avg       0.82      0.82      0.81     11873\n",
            "\n"
          ],
          "name": "stdout"
        }
      ]
    },
    {
      "cell_type": "code",
      "metadata": {
        "id": "VjGXt18pEI3U"
      },
      "source": [
        "#Submission\r\n",
        "y_pred=model.predict(X_test)"
      ],
      "execution_count": null,
      "outputs": []
    },
    {
      "cell_type": "code",
      "metadata": {
        "id": "fAigAavhGk2K"
      },
      "source": [
        "data = {'id': X_test.index, 'status_group': y_pred}\r\n",
        "submission = pd.DataFrame(data)"
      ],
      "execution_count": null,
      "outputs": []
    },
    {
      "cell_type": "code",
      "metadata": {
        "colab": {
          "base_uri": "https://localhost:8080/",
          "height": 419
        },
        "id": "Ov2YQZRKG1h4",
        "outputId": "acd69881-518a-4a2c-de67-03b400d056e4"
      },
      "source": [
        "submission"
      ],
      "execution_count": null,
      "outputs": [
        {
          "output_type": "execute_result",
          "data": {
            "text/html": [
              "<div>\n",
              "<style scoped>\n",
              "    .dataframe tbody tr th:only-of-type {\n",
              "        vertical-align: middle;\n",
              "    }\n",
              "\n",
              "    .dataframe tbody tr th {\n",
              "        vertical-align: top;\n",
              "    }\n",
              "\n",
              "    .dataframe thead th {\n",
              "        text-align: right;\n",
              "    }\n",
              "</style>\n",
              "<table border=\"1\" class=\"dataframe\">\n",
              "  <thead>\n",
              "    <tr style=\"text-align: right;\">\n",
              "      <th></th>\n",
              "      <th>id</th>\n",
              "      <th>status_group</th>\n",
              "    </tr>\n",
              "  </thead>\n",
              "  <tbody>\n",
              "    <tr>\n",
              "      <th>0</th>\n",
              "      <td>50785</td>\n",
              "      <td>1</td>\n",
              "    </tr>\n",
              "    <tr>\n",
              "      <th>1</th>\n",
              "      <td>51630</td>\n",
              "      <td>0</td>\n",
              "    </tr>\n",
              "    <tr>\n",
              "      <th>2</th>\n",
              "      <td>17168</td>\n",
              "      <td>0</td>\n",
              "    </tr>\n",
              "    <tr>\n",
              "      <th>3</th>\n",
              "      <td>45559</td>\n",
              "      <td>1</td>\n",
              "    </tr>\n",
              "    <tr>\n",
              "      <th>4</th>\n",
              "      <td>49871</td>\n",
              "      <td>0</td>\n",
              "    </tr>\n",
              "    <tr>\n",
              "      <th>...</th>\n",
              "      <td>...</td>\n",
              "      <td>...</td>\n",
              "    </tr>\n",
              "    <tr>\n",
              "      <th>14353</th>\n",
              "      <td>39307</td>\n",
              "      <td>1</td>\n",
              "    </tr>\n",
              "    <tr>\n",
              "      <th>14354</th>\n",
              "      <td>18990</td>\n",
              "      <td>0</td>\n",
              "    </tr>\n",
              "    <tr>\n",
              "      <th>14355</th>\n",
              "      <td>28749</td>\n",
              "      <td>0</td>\n",
              "    </tr>\n",
              "    <tr>\n",
              "      <th>14356</th>\n",
              "      <td>33492</td>\n",
              "      <td>0</td>\n",
              "    </tr>\n",
              "    <tr>\n",
              "      <th>14357</th>\n",
              "      <td>68707</td>\n",
              "      <td>1</td>\n",
              "    </tr>\n",
              "  </tbody>\n",
              "</table>\n",
              "<p>14358 rows × 2 columns</p>\n",
              "</div>"
            ],
            "text/plain": [
              "          id  status_group\n",
              "0      50785             1\n",
              "1      51630             0\n",
              "2      17168             0\n",
              "3      45559             1\n",
              "4      49871             0\n",
              "...      ...           ...\n",
              "14353  39307             1\n",
              "14354  18990             0\n",
              "14355  28749             0\n",
              "14356  33492             0\n",
              "14357  68707             1\n",
              "\n",
              "[14358 rows x 2 columns]"
            ]
          },
          "metadata": {
            "tags": []
          },
          "execution_count": 103
        }
      ]
    },
    {
      "cell_type": "code",
      "metadata": {
        "id": "0hhqIAkkG49h"
      },
      "source": [
        "submission.to_csv('tanz_wtr_pump_1-21-21-2.csv', index=False)"
      ],
      "execution_count": null,
      "outputs": []
    },
    {
      "cell_type": "code",
      "metadata": {
        "colab": {
          "base_uri": "https://localhost:8080/",
          "height": 17
        },
        "id": "EYurVXscH55a",
        "outputId": "f2b8001c-cacf-4eb1-9e4f-75acc2693b96"
      },
      "source": [
        "from google.colab import files\r\n",
        "files.download('tanz_wtr_pump_1-21-21-2.csv')"
      ],
      "execution_count": null,
      "outputs": [
        {
          "output_type": "display_data",
          "data": {
            "application/javascript": [
              "\n",
              "    async function download(id, filename, size) {\n",
              "      if (!google.colab.kernel.accessAllowed) {\n",
              "        return;\n",
              "      }\n",
              "      const div = document.createElement('div');\n",
              "      const label = document.createElement('label');\n",
              "      label.textContent = `Downloading \"${filename}\": `;\n",
              "      div.appendChild(label);\n",
              "      const progress = document.createElement('progress');\n",
              "      progress.max = size;\n",
              "      div.appendChild(progress);\n",
              "      document.body.appendChild(div);\n",
              "\n",
              "      const buffers = [];\n",
              "      let downloaded = 0;\n",
              "\n",
              "      const channel = await google.colab.kernel.comms.open(id);\n",
              "      // Send a message to notify the kernel that we're ready.\n",
              "      channel.send({})\n",
              "\n",
              "      for await (const message of channel.messages) {\n",
              "        // Send a message to notify the kernel that we're ready.\n",
              "        channel.send({})\n",
              "        if (message.buffers) {\n",
              "          for (const buffer of message.buffers) {\n",
              "            buffers.push(buffer);\n",
              "            downloaded += buffer.byteLength;\n",
              "            progress.value = downloaded;\n",
              "          }\n",
              "        }\n",
              "      }\n",
              "      const blob = new Blob(buffers, {type: 'application/binary'});\n",
              "      const a = document.createElement('a');\n",
              "      a.href = window.URL.createObjectURL(blob);\n",
              "      a.download = filename;\n",
              "      div.appendChild(a);\n",
              "      a.click();\n",
              "      div.remove();\n",
              "    }\n",
              "  "
            ],
            "text/plain": [
              "<IPython.core.display.Javascript object>"
            ]
          },
          "metadata": {
            "tags": []
          }
        },
        {
          "output_type": "display_data",
          "data": {
            "application/javascript": [
              "download(\"download_12daa196-c918-4942-bcbb-edb40d353cbd\", \"tanz_wtr_pump_1-21-21-2.csv\", 112750)"
            ],
            "text/plain": [
              "<IPython.core.display.Javascript object>"
            ]
          },
          "metadata": {
            "tags": []
          }
        }
      ]
    }
  ]
}